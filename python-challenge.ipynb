{
 "cells": [
  {
   "cell_type": "markdown",
   "metadata": {},
   "source": [
    "# Python challenges\n",
    "All the challenges from python challenge solved. Web -> http://www.pythonchallenge.com"
   ]
  },
  {
   "cell_type": "markdown",
   "metadata": {},
   "source": [
    "### Challenge 0 - warming up\n",
    "Link: http://www.pythonchallenge.com/pc/def/0.html\n",
    "<img src=\"c0/calc.jpg\">\n",
    "\n",
    "Hint: try to change the URL address."
   ]
  },
  {
   "cell_type": "code",
   "execution_count": 1,
   "metadata": {
    "scrolled": true
   },
   "outputs": [
    {
     "data": {
      "text/plain": [
       "274877906944"
      ]
     },
     "execution_count": 1,
     "metadata": {},
     "output_type": "execute_result"
    }
   ],
   "source": [
    "2**38"
   ]
  },
  {
   "cell_type": "markdown",
   "metadata": {},
   "source": [
    "Then you go to http://www.pythonchallenge.com/pc/def/274877906944.html and it redirects you to the next challenge url."
   ]
  },
  {
   "cell_type": "markdown",
   "metadata": {},
   "source": [
    "### Challenge 1 - What about making trans?\n",
    "Link: http://www.pythonchallenge.com/pc/def/map.html\n",
    "<img src=\"c1/map.jpg\">\n",
    "\n",
    "everybody thinks twice before solving this.\n",
    "\n",
    "g fmnc wms bgblr rpylqjyrc gr zw fylb. rfyrq ufyr amknsrcpq ypc dmp. bmgle gr gl zw fylb gq glcddgagclr ylb rfyr'q ufw rfgq rcvr gq qm jmle. sqgle qrpgle.kyicrpylq() gq pcamkkclbcb. lmu ynnjw ml rfc spj."
   ]
  },
  {
   "cell_type": "markdown",
   "metadata": {},
   "source": [
    "The first step is to get the data to a variable."
   ]
  },
  {
   "cell_type": "code",
   "execution_count": 76,
   "metadata": {},
   "outputs": [],
   "source": [
    "input_string = \"g fmnc wms bgblr rpylqjyrc gr zw fylb. rfyrq ufyr amknsrcpq ypc dmp. bmgle gr gl zw fylb gq glcddgagclr ylb rfyr'q ufw rfgq rcvr gq qm jmle. sqgle qrpgle.kyicrpylq() gq pcamkkclbcb. lmu ynnjw ml rfc spj.\""
   ]
  },
  {
   "cell_type": "markdown",
   "metadata": {},
   "source": [
    "We realize that there's a 2 character difference between the character pairs so we try to move 2 positions every char"
   ]
  },
  {
   "cell_type": "code",
   "execution_count": 77,
   "metadata": {},
   "outputs": [
    {
     "name": "stdout",
     "output_type": "stream",
     "text": [
      "i hope you didnt translate it by hand. thats what computers are for. doing it in by hand is inefficient and that's why this text is so long. using string.maketrans() is recommended. now apply on the url.\n"
     ]
    }
   ],
   "source": [
    "# We check if every character is a letter\n",
    "# from a-z and if it is we shift it 2 positions in \n",
    "# the abc and store it in a new string.\n",
    "sol=\"\"\n",
    "for ch in input_string:\n",
    "    n = ord(ch)\n",
    "    # 96 is the ascii code for a and 123 for z\n",
    "    if (n>96) and (n<123):\n",
    "        # since it is circular (z->b) we need to take it into account\n",
    "        sol += chr((n - 96 + 2)%26 + 96)\n",
    "    else:\n",
    "        sol += chr(n)\n",
    "print(sol)"
   ]
  },
  {
   "cell_type": "markdown",
   "metadata": {},
   "source": [
    "So we try the same on the url..."
   ]
  },
  {
   "cell_type": "code",
   "execution_count": 93,
   "metadata": {},
   "outputs": [
    {
     "name": "stdout",
     "output_type": "stream",
     "text": [
      "ocr\n"
     ]
    }
   ],
   "source": [
    "# Since here there are only letters we don't need to check\n",
    "# it. And also there's no edge cases (y,z)\n",
    "sol = \"\"\n",
    "for ch in \"map\":\n",
    "    n = ord(ch)\n",
    "    sol += chr(ord(ch) + 2)\n",
    "print(sol)"
   ]
  },
  {
   "cell_type": "markdown",
   "metadata": {},
   "source": [
    "### Challenge 2 - ocr\n",
    "Link: http://www.pythonchallenge.com/pc/def/ocr.html\n",
    "<img src=\"c2/ocr.jpg\">\n",
    "\n",
    "recognize the characters. maybe they are in the book, \n",
    "but MAYBE they are in the page source."
   ]
  },
  {
   "cell_type": "markdown",
   "metadata": {},
   "source": [
    "Inspecting the source code we see that there is a huge string of strange symbols and some letters. First step is to get that in a var."
   ]
  },
  {
   "cell_type": "code",
   "execution_count": 90,
   "metadata": {},
   "outputs": [
    {
     "name": "stdout",
     "output_type": "stream",
     "text": [
      "%%$@_$^__#)^)&!_+]!*@&^}@[@%]()%+$&[(_@%+%$*^@$^!+]!&_#)_*}{}}!}_]$[%}@[{_@#_^{*\n",
      "@##&{#&{&)*%(]{{([*}@[@&]+!!*{)!}{%+{))])[!^})+)$]#{*+^((@^@}$[**$&^{$!@#$%)!@(\n"
     ]
    }
   ],
   "source": [
    "from urllib.request import urlopen\n",
    "import re\n",
    "\n",
    "html=urlopen(\"http://www.pythonchallenge.com/pc/def/ocr.html\").read().decode()\n",
    "# Since the string is surrounded by comment symbols we can regex that\n",
    "input_string = re.findall(r'<!--[^-->]*-->',str(html))[0][5:-3]\n",
    "# Two line sample\n",
    "print(input_string[:160])"
   ]
  },
  {
   "cell_type": "markdown",
   "metadata": {},
   "source": [
    "Then we keep only the letters and see what we get"
   ]
  },
  {
   "cell_type": "code",
   "execution_count": 91,
   "metadata": {},
   "outputs": [
    {
     "name": "stdout",
     "output_type": "stream",
     "text": [
      "equality\n"
     ]
    }
   ],
   "source": [
    "sol=\"\"\n",
    "for ch in input_string:\n",
    "    n = ord(ch)\n",
    "    if (n>96) and (n<123):\n",
    "        sol += ch\n",
    "print(sol)"
   ]
  },
  {
   "cell_type": "markdown",
   "metadata": {},
   "source": [
    "### Challenge 3 - re\n",
    "Link: http://www.pythonchallenge.com/pc/def/equality.html\n",
    "<img src=\"c3/bodyguard.jpg\">\n",
    "\n",
    "One small letter, surrounded by EXACTLY three big bodyguards on each of its sides."
   ]
  },
  {
   "cell_type": "markdown",
   "metadata": {},
   "source": [
    "Looking at see source code we see something similar to the previous challenge, a huge string in the comments. First step get that in a var."
   ]
  },
  {
   "cell_type": "code",
   "execution_count": 1,
   "metadata": {},
   "outputs": [
    {
     "name": "stdout",
     "output_type": "stream",
     "text": [
      "kAewtloYgcFQaJNhHVGxXDiQmzjfcpYbzxlWrVcqsmUbCunkfxZWDZjUZMiGqhRRiUvGmYmvnJIHEmbT\n",
      "MUKLECKdCthezSYBpIElRnZugFAxDRtQPpyeCBgBfaRVvvguRXLvkAdLOeCKxsDUvBBCwdpMMWmuELe\n"
     ]
    }
   ],
   "source": [
    "from urllib.request import urlopen\n",
    "import re\n",
    "\n",
    "html=urlopen(\"http://www.pythonchallenge.com/pc/def/equality.html\").read().decode()\n",
    "# Since the string is surrounded by comment symbols we can regex that\n",
    "input_string = re.findall(r'<!--[^-->]*-->',str(html))[0][5:-3]\n",
    "# Two line sample\n",
    "print(input_string[:160])"
   ]
  },
  {
   "cell_type": "markdown",
   "metadata": {},
   "source": [
    "The next is to look for exactly what the hint says, look for a lower case letter surrounded by 3 upper case words."
   ]
  },
  {
   "cell_type": "code",
   "execution_count": 6,
   "metadata": {},
   "outputs": [
    {
     "name": "stdout",
     "output_type": "stream",
     "text": [
      "['qIQNlQSLi', 'eOEKiVEYj', 'aZADnMCZq', 'bZUTkLYNg', 'uCNDeHSBj', 'kOIXdKBFh', 'dXJVlGZVm', 'gZAGiLQZx', 'vCJAsACFl', 'qKWGtIDCj']\n"
     ]
    }
   ],
   "source": [
    "import re\n",
    "matches = re.findall(r'[a-z][A-Z]{3}[a-z][A-Z]{3}[a-z]', input_string)\n",
    "print(matches)"
   ]
  },
  {
   "cell_type": "markdown",
   "metadata": {},
   "source": [
    "Aparently this is nonsense, but looking closely you realize that there's the result in there..."
   ]
  },
  {
   "cell_type": "code",
   "execution_count": 99,
   "metadata": {},
   "outputs": [
    {
     "data": {
      "text/plain": [
       "['l', 'i', 'n', 'k', 'e', 'd', 'l', 'i', 's', 't']"
      ]
     },
     "execution_count": 99,
     "metadata": {},
     "output_type": "execute_result"
    }
   ],
   "source": [
    "[res[4] for res in matches]"
   ]
  },
  {
   "cell_type": "markdown",
   "metadata": {},
   "source": [
    "### Challenge 4 - follow the chain\n",
    "Link: http://www.pythonchallenge.com/pc/def/linkedlist.php\n",
    "<img src=\"c4/chainsaw.jpg\">"
   ]
  },
  {
   "cell_type": "markdown",
   "metadata": {},
   "source": [
    "When we click the image it takes us to http://www.pythonchallenge.com/pc/def/linkedlist.php?nothing=12345 and we see `and the next nothing is 44827.` Then if you replace 12345 for the 44827 you get a new page with a different number. So here clearly we have to keep going until we find no number..."
   ]
  },
  {
   "cell_type": "code",
   "execution_count": 122,
   "metadata": {},
   "outputs": [
    {
     "name": "stdout",
     "output_type": "stream",
     "text": [
      "Current number: 16044\n",
      "b'Yes. Divide by two and keep going.'\n"
     ]
    }
   ],
   "source": [
    "from urllib.request import urlopen\n",
    "import re\n",
    "\n",
    "base_url = \"http://www.pythonchallenge.com/pc/def/linkedlist.php?nothing=\"\n",
    "next_num = 12345\n",
    "while True:\n",
    "    try:\n",
    "        next_num = re.findall(r'[0-9]+', urlopen(base_url+str(next_num)).read().decode())[0]\n",
    "    except:\n",
    "        print(f\"Current number: {next_num}\")\n",
    "        print(urlopen(base_url+str(next_num)).read())\n",
    "        break"
   ]
  },
  {
   "cell_type": "markdown",
   "metadata": {},
   "source": [
    "So we do as it says"
   ]
  },
  {
   "cell_type": "code",
   "execution_count": 124,
   "metadata": {},
   "outputs": [],
   "source": [
    "next_num = 16044//2"
   ]
  },
  {
   "cell_type": "markdown",
   "metadata": {},
   "source": [
    "And keep going..."
   ]
  },
  {
   "cell_type": "code",
   "execution_count": 125,
   "metadata": {},
   "outputs": [
    {
     "name": "stdout",
     "output_type": "stream",
     "text": [
      "Current number: 82683\n",
      "b\"You've been misleaded to here. Go to previous \\none and check.\"\n"
     ]
    }
   ],
   "source": [
    "while True:\n",
    "    try:\n",
    "        next_num = re.findall(r'[0-9]+', urlopen(base_url+str(next_num)).read().decode())[0]\n",
    "    except:\n",
    "        print(f\"Current number: {next_num}\")\n",
    "        print(urlopen(base_url+str(next_num)).read())\n",
    "        break"
   ]
  },
  {
   "cell_type": "markdown",
   "metadata": {},
   "source": [
    "So next go to none and see..."
   ]
  },
  {
   "cell_type": "code",
   "execution_count": 126,
   "metadata": {},
   "outputs": [
    {
     "name": "stdout",
     "output_type": "stream",
     "text": [
      "Current number: 66831\n",
      "b'peak.html'\n"
     ]
    }
   ],
   "source": [
    "next_num = \"none\"\n",
    "while True:\n",
    "    try:\n",
    "        next_num = re.findall(r'[0-9]+', urlopen(base_url+str(next_num)).read().decode())[0]\n",
    "    except:\n",
    "        print(f\"Current number: {next_num}\")\n",
    "        print(urlopen(base_url+str(next_num)).read())\n",
    "        break"
   ]
  },
  {
   "cell_type": "markdown",
   "metadata": {},
   "source": [
    "### Challenge 5 - peak hell\n",
    "Link: http://www.pythonchallenge.com/pc/def/peak.html\n",
    "<img src=\"c5/peakhell.jpg\">\n",
    "\n",
    "pronounce it"
   ]
  },
  {
   "cell_type": "markdown",
   "metadata": {},
   "source": [
    "Here there are two tricks, the first is to realize that peak hell sounds like pickle and that's a python library used for object serialization.\n",
    "\n",
    "The second is to check the source code and see that there's the line `<peakhell src=\"banner.p\"/>` which suggests going to banner.p and see what we get. In fact we get a file that we can open with the pickle library."
   ]
  },
  {
   "cell_type": "code",
   "execution_count": 131,
   "metadata": {},
   "outputs": [],
   "source": [
    "from urllib.request import urlopen\n",
    "import pickle\n",
    "\n",
    "con = urlopen(\"http://www.pythonchallenge.com/pc/def/banner.p\")\n",
    "data = pickle.load(con)"
   ]
  },
  {
   "cell_type": "markdown",
   "metadata": {},
   "source": [
    "The result is a 95x23 matrix expressed in a run length enconding, we can try to print it and see what we get..."
   ]
  },
  {
   "cell_type": "code",
   "execution_count": 135,
   "metadata": {},
   "outputs": [
    {
     "name": "stdout",
     "output_type": "stream",
     "text": [
      "                                                                                               \n",
      "              #####                                                                      ##### \n",
      "               ####                                                                       #### \n",
      "               ####                                                                       #### \n",
      "               ####                                                                       #### \n",
      "               ####                                                                       #### \n",
      "               ####                                                                       #### \n",
      "               ####                                                                       #### \n",
      "               ####                                                                       #### \n",
      "      ###      ####   ###         ###       #####   ###    #####   ###          ###       #### \n",
      "   ###   ##    #### #######     ##  ###      #### #######   #### #######     ###  ###     #### \n",
      "  ###     ###  #####    ####   ###   ####    #####    ####  #####    ####   ###     ###   #### \n",
      " ###           ####     ####   ###    ###    ####     ####  ####     ####  ###      ####  #### \n",
      " ###           ####     ####          ###    ####     ####  ####     ####  ###       ###  #### \n",
      "####           ####     ####     ##   ###    ####     ####  ####     #### ####       ###  #### \n",
      "####           ####     ####   ##########    ####     ####  ####     #### ##############  #### \n",
      "####           ####     ####  ###    ####    ####     ####  ####     #### ####            #### \n",
      "####           ####     #### ####     ###    ####     ####  ####     #### ####            #### \n",
      " ###           ####     #### ####     ###    ####     ####  ####     ####  ###            #### \n",
      "  ###      ##  ####     ####  ###    ####    ####     ####  ####     ####   ###      ##   #### \n",
      "   ###    ##   ####     ####   ###########   ####     ####  ####     ####    ###    ##    #### \n",
      "      ###     ######    #####    ##    #### ######    ###########    #####      ###      ######\n",
      "                                                                                               \n",
      "\n"
     ]
    }
   ],
   "source": [
    "st = \"\"\n",
    "for line in data:\n",
    "    for char in line:\n",
    "        st += char[0]*char[1]\n",
    "    st += \"\\n\"\n",
    "print(st)"
   ]
  },
  {
   "cell_type": "markdown",
   "metadata": {},
   "source": [
    "### Challenge 6 - now there are pairs\n",
    "Link: http://www.pythonchallenge.com/pc/def/channel.html\n",
    "<img src=\"c6/channel.jpg\">"
   ]
  },
  {
   "cell_type": "markdown",
   "metadata": {},
   "source": [
    "The first idea is to change the url ending for .zip, so it downloads a zip."
   ]
  },
  {
   "cell_type": "code",
   "execution_count": 10,
   "metadata": {},
   "outputs": [
    {
     "data": {
      "text/plain": [
       "('c6/channel.zip', <http.client.HTTPMessage at 0x211ad3eda58>)"
      ]
     },
     "execution_count": 10,
     "metadata": {},
     "output_type": "execute_result"
    }
   ],
   "source": [
    "import urllib.request \n",
    "urllib.request.urlretrieve(\"http://www.pythonchallenge.com/pc/def/channel.zip\", \"c6/channel.zip\")"
   ]
  },
  {
   "cell_type": "markdown",
   "metadata": {},
   "source": [
    "There's a readme file:"
   ]
  },
  {
   "cell_type": "code",
   "execution_count": 22,
   "metadata": {},
   "outputs": [
    {
     "name": "stdout",
     "output_type": "stream",
     "text": [
      "welcome to my zipped list.\n",
      "\n",
      "hint1: start from 90052\n",
      "hint2: answer is inside the zip\n",
      "\n"
     ]
    }
   ],
   "source": [
    "from zipfile import ZipFile\n",
    "# Load file and read readme\n",
    "with ZipFile('c6/channel.zip') as myzip:\n",
    "    with myzip.open('readme.txt') as myfile:\n",
    "        print(myfile.read().decode())"
   ]
  },
  {
   "cell_type": "markdown",
   "metadata": {},
   "source": [
    "This is like the previous challenge where you have to keep going until you find the final url. So we do as before..."
   ]
  },
  {
   "cell_type": "code",
   "execution_count": 25,
   "metadata": {},
   "outputs": [
    {
     "name": "stdout",
     "output_type": "stream",
     "text": [
      "Next nothing is 94191\n"
     ]
    }
   ],
   "source": [
    "import re\n",
    "# Recursive opening of files\n",
    "with ZipFile('c6/channel.zip') as myzip:\n",
    "    file_name = \"90052.txt\"\n",
    "    while True:\n",
    "        myfile = myzip.open(file_name)\n",
    "        file_content = myfile.read().decode()\n",
    "        try:\n",
    "            file_name = re.findall(r'[0-9]+', file_content)[0]+\".txt\"\n",
    "        except:\n",
    "            print(file_content)\n",
    "            break"
   ]
  },
  {
   "cell_type": "markdown",
   "metadata": {},
   "source": [
    "Reading about the zip standard you see that there is a header field for comments in every file compressed in a zip, so maybe reading them and printing in the order that the tell the files will get us the message..."
   ]
  },
  {
   "cell_type": "code",
   "execution_count": 30,
   "metadata": {},
   "outputs": [
    {
     "name": "stdout",
     "output_type": "stream",
     "text": [
      "***************************************************************\n",
      "****************************************************************\n",
      "**                                                            **\n",
      "**   OO    OO    XX      YYYY    GG    GG  EEEEEE NN      NN  **\n",
      "**   OO    OO  XXXXXX   YYYYYY   GG   GG   EEEEEE  NN    NN   **\n",
      "**   OO    OO XXX  XXX YYY   YY  GG GG     EE       NN  NN    **\n",
      "**   OOOOOOOO XX    XX YY        GGG       EEEEE     NNNN     **\n",
      "**   OOOOOOOO XX    XX YY        GGG       EEEEE      NN      **\n",
      "**   OO    OO XXX  XXX YYY   YY  GG GG     EE         NN      **\n",
      "**   OO    OO  XXXXXX   YYYYYY   GG   GG   EEEEEE     NN      **\n",
      "**   OO    OO    XX      YYYY    GG    GG  EEEEEE     NN      **\n",
      "**                                                            **\n",
      "****************************************************************\n",
      " **************************************************************\n"
     ]
    }
   ],
   "source": [
    "import re\n",
    "# Recursive opening of files\n",
    "with ZipFile('c6/channel.zip') as myzip:\n",
    "    file_name = \"90052.txt\"\n",
    "    while True:\n",
    "        myfile = myzip.open(file_name)\n",
    "        file_content = myfile.read().decode()\n",
    "        try:\n",
    "            file_name = re.findall(r'[0-9]+', file_content)[0]+\".txt\"\n",
    "            print(myzip.getinfo(file_name).comment.decode(), end=\"\")\n",
    "        except:\n",
    "            break"
   ]
  },
  {
   "cell_type": "markdown",
   "metadata": {},
   "source": [
    "We are not done yet, when visiting hockey.html appears the next:"
   ]
  },
  {
   "cell_type": "code",
   "execution_count": 38,
   "metadata": {},
   "outputs": [
    {
     "name": "stdout",
     "output_type": "stream",
     "text": [
      "it's in the air. look at the letters. \n",
      "\n"
     ]
    }
   ],
   "source": [
    "from urllib.request import urlopen\n",
    "print(urlopen(\"http://www.pythonchallenge.com/pc/def/\"+\"hockey.html\").read().decode())"
   ]
  },
  {
   "cell_type": "markdown",
   "metadata": {},
   "source": [
    "So guessing a little, we get to oxygen.html"
   ]
  },
  {
   "cell_type": "markdown",
   "metadata": {},
   "source": [
    "### Challenge 7 - smarty\n",
    "Link: http://www.pythonchallenge.com/pc/def/oxygen.html\n",
    "<img src=\"c7/oxygen.png\">"
   ]
  },
  {
   "cell_type": "markdown",
   "metadata": {},
   "source": [
    "In this challenge the first that comes to mind is to read the grayscale values from the middle line and decode it as ascii and see what we get.\n",
    "\n",
    "Doing a bit of analysis with any image processing software we see that the squares are 7 pixels wide and that the line ends at the 610 pixel, se we select that range to analyze it."
   ]
  },
  {
   "cell_type": "code",
   "execution_count": 19,
   "metadata": {},
   "outputs": [
    {
     "name": "stdout",
     "output_type": "stream",
     "text": [
      "smart guy, you made it. the next level is [105, 110, 116, 101, 103, 114, 105, 116, 121]"
     ]
    }
   ],
   "source": [
    "from PIL import Image\n",
    "import numpy as np\n",
    "\n",
    "im = Image.open('c7/oxygen.png').convert('L')\n",
    "mat = np.array(im)\n",
    "\n",
    "selected = mat[48][2:610:7]\n",
    "\n",
    "for i in range(len(selected)):\n",
    "    print(chr(selected[i]), end=\"\")"
   ]
  },
  {
   "cell_type": "markdown",
   "metadata": {},
   "source": [
    "So we decode the same way as before..."
   ]
  },
  {
   "cell_type": "code",
   "execution_count": 20,
   "metadata": {},
   "outputs": [
    {
     "name": "stdout",
     "output_type": "stream",
     "text": [
      "integrity"
     ]
    }
   ],
   "source": [
    "result = [105, 110, 116, 101, 103, 114, 105, 116, 121]\n",
    "\n",
    "for ch in result:\n",
    "    print(chr(ch), end=\"\")"
   ]
  },
  {
   "cell_type": "markdown",
   "metadata": {},
   "source": [
    "### Challenge 8 - working hard?\n",
    "Link: http://www.pythonchallenge.com/pc/def/integrity.html\n",
    "<img src=\"c8/integrity.jpg\">\n",
    "Where is the missing link?"
   ]
  },
  {
   "cell_type": "markdown",
   "metadata": {},
   "source": [
    "When clicking the bee in the photo a prompt appears asking for user and password. And reading the source we see a user and password in a weird format... "
   ]
  },
  {
   "cell_type": "code",
   "execution_count": 22,
   "metadata": {},
   "outputs": [],
   "source": [
    "un = b'BZh91AY&SYA\\xaf\\x82\\r\\x00\\x00\\x01\\x01\\x80\\x02\\xc0\\x02\\x00 \\x00!\\x9ah3M\\x07<]\\xc9\\x14\\xe1BA\\x06\\xbe\\x084'\n",
    "pw = b'BZh91AY&SY\\x94$|\\x0e\\x00\\x00\\x00\\x81\\x00\\x03$ \\x00!\\x9ah3M\\x13<]\\xc9\\x14\\xe1BBP\\x91\\xf08'"
   ]
  },
  {
   "cell_type": "markdown",
   "metadata": {},
   "source": [
    "Reading around you learn that if a file starts with BZ it is compressed with bzip2. And Python has a module for it in the stl, so let's try"
   ]
  },
  {
   "cell_type": "code",
   "execution_count": 23,
   "metadata": {},
   "outputs": [
    {
     "name": "stdout",
     "output_type": "stream",
     "text": [
      "b'huge'\n",
      "b'file'\n"
     ]
    }
   ],
   "source": [
    "import bz2\n",
    "print(bz2.decompress(un))\n",
    "print(bz2.decompress(pw))"
   ]
  },
  {
   "cell_type": "markdown",
   "metadata": {},
   "source": [
    "When entering the user and password to the prompt it takes you to the next challenge."
   ]
  },
  {
   "cell_type": "markdown",
   "metadata": {},
   "source": [
    "### Challenge 9 - connect the dots\n",
    "Link: http://www.pythonchallenge.com/pc/return/good.html\n",
    "<img src=\"c9/good.jpg\">"
   ]
  },
  {
   "cell_type": "markdown",
   "metadata": {},
   "source": [
    "In this challenge the author is messing with you... The first thought is to connect the dots in the image and see what you get, then you get nothing. Next you check the source code and see two arrays and try to match in anyway to the image, this is also incorrect and you get nothing.\n",
    "\n",
    "Instead of all of that, the correct way to work through this is to just plot the arrays in the source, picking two elements of the array as every point."
   ]
  },
  {
   "cell_type": "code",
   "execution_count": 26,
   "metadata": {},
   "outputs": [],
   "source": [
    "first = [146,399,163,403,170,393,169,391,166,386,170,381,170,371,170,355,169,346,167,335,170,329,170,320,170,\n",
    "310,171,301,173,290,178,289,182,287,188,286,190,286,192,291,194,296,195,305,194,307,191,312,190,316,\n",
    "190,321,192,331,193,338,196,341,197,346,199,352,198,360,197,366,197,373,196,380,197,383,196,387,192,\n",
    "389,191,392,190,396,189,400,194,401,201,402,208,403,213,402,216,401,219,397,219,393,216,390,215,385,\n",
    "215,379,213,373,213,365,212,360,210,353,210,347,212,338,213,329,214,319,215,311,215,306,216,296,218,\n",
    "290,221,283,225,282,233,284,238,287,243,290,250,291,255,294,261,293,265,291,271,291,273,289,278,287,\n",
    "279,285,281,280,284,278,284,276,287,277,289,283,291,286,294,291,296,295,299,300,301,304,304,320,305,\n",
    "327,306,332,307,341,306,349,303,354,301,364,301,371,297,375,292,384,291,386,302,393,324,391,333,387,\n",
    "328,375,329,367,329,353,330,341,331,328,336,319,338,310,341,304,341,285,341,278,343,269,344,262,346,\n",
    "259,346,251,349,259,349,264,349,273,349,280,349,288,349,295,349,298,354,293,356,286,354,279,352,268,\n",
    "352,257,351,249,350,234,351,211,352,197,354,185,353,171,351,154,348,147,342,137,339,132,330,122,327,\n",
    "120,314,116,304,117,293,118,284,118,281,122,275,128,265,129,257,131,244,133,239,134,228,136,221,137,\n",
    "214,138,209,135,201,132,192,130,184,131,175,129,170,131,159,134,157,134,160,130,170,125,176,114,176,\n",
    "102,173,103,172,108,171,111,163,115,156,116,149,117,142,116,136,115,129,115,124,115,120,115,115,117,\n",
    "113,120,109,122,102,122,100,121,95,121,89,115,87,110,82,109,84,118,89,123,93,129,100,130,108,132,110,\n",
    "133,110,136,107,138,105,140,95,138,86,141,79,149,77,155,81,162,90,165,97,167,99,171,109,171,107,161,\n",
    "111,156,113,170,115,185,118,208,117,223,121,239,128,251,133,259,136,266,139,276,143,290,148,310,151,\n",
    "332,155,348,156,353,153,366,149,379,147,394,146,399]\n",
    "\n",
    "second = [156,141,165,135,169,131,176,130,187,134,191,140,191,146,186,150,179,155,175,157,168,157,163,157,159,\n",
    "157,158,164,159,175,159,181,157,191,154,197,153,205,153,210,152,212,147,215,146,218,143,220,132,220,\n",
    "125,217,119,209,116,196,115,185,114,172,114,167,112,161,109,165,107,170,99,171,97,167,89,164,81,162,\n",
    "77,155,81,148,87,140,96,138,105,141,110,136,111,126,113,129,118,117,128,114,137,115,146,114,155,115,\n",
    "158,121,157,128,156,134,157,136,156,136]"
   ]
  },
  {
   "cell_type": "code",
   "execution_count": 48,
   "metadata": {
    "scrolled": true
   },
   "outputs": [
    {
     "data": {
      "text/plain": [
       "<matplotlib.collections.PathCollection at 0x27fe1ee36d8>"
      ]
     },
     "execution_count": 48,
     "metadata": {},
     "output_type": "execute_result"
    },
    {
     "data": {
      "image/png": "[encoded data removed]",
      "text/plain": [
       "<Figure size 432x288 with 1 Axes>"
      ]
     },
     "metadata": {
      "needs_background": "light"
     },
     "output_type": "display_data"
    }
   ],
   "source": [
    "import matplotlib.pyplot as plt\n",
    "plt.axis([0, 450, 0, 450])\n",
    "plt.gca().invert_yaxis()\n",
    "plt.scatter(first[0::2],first[1::2], s=3)\n",
    "plt.scatter(second[0::2],second[1::2], s=3)"
   ]
  },
  {
   "cell_type": "markdown",
   "metadata": {},
   "source": [
    "Well this looks like a bull to me."
   ]
  },
  {
   "cell_type": "markdown",
   "metadata": {},
   "source": [
    "### Challenge 10 - what are you looking at?\n",
    "Link: http://www.pythonchallenge.com/pc/return/bull.html\n",
    "<img src=\"c10/bull.jpg\">\n",
    "\n",
    "len(a[30])=?"
   ]
  },
  {
   "cell_type": "markdown",
   "metadata": {},
   "source": [
    "When clicking on the cow we get the following text:\n",
    "\n",
    "``a = [1, 11, 21, 1211, 111221, ``\n",
    "\n",
    "Thinking about this you see that this looks kinda like a run-length encoding, so we built one for the sake of the challenge..."
   ]
  },
  {
   "cell_type": "code",
   "execution_count": 54,
   "metadata": {
    "scrolled": true
   },
   "outputs": [
    {
     "data": {
      "text/plain": [
       "5808"
      ]
     },
     "execution_count": 54,
     "metadata": {},
     "output_type": "execute_result"
    }
   ],
   "source": [
    "seq=\"1\"\n",
    "for i in range(30):\n",
    "    st = \"\"\n",
    "    while len(seq)>0:\n",
    "        m = re.search( r'^([0-9])\\1*', seq).group()\n",
    "        seq = seq[len(m):]\n",
    "        st += f\"{len(m)}{m[0]}\"\n",
    "    seq=st\n",
    "len(st)"
   ]
  },
  {
   "cell_type": "markdown",
   "metadata": {},
   "source": [
    "### Challenge 11 - odd even\n",
    "Link: http://www.pythonchallenge.com/pc/return/5808.html\n",
    "<img src=\"c11/cave.jpg\">"
   ]
  },
  {
   "cell_type": "code",
   "execution_count": 62,
   "metadata": {},
   "outputs": [],
   "source": [
    "from PIL import Image\n",
    "import numpy as np\n",
    "im = Image.open('c11/cave.jpg').convert('L')\n",
    "mat = np.array(im)"
   ]
  },
  {
   "cell_type": "code",
   "execution_count": 63,
   "metadata": {
    "scrolled": true
   },
   "outputs": [
    {
     "data": {
      "image/png": "[encoded data removed]",
      "text/plain": [
       "<PIL.Image.Image image mode=L size=320x240 at 0x27FE0AEAE48>"
      ]
     },
     "execution_count": 63,
     "metadata": {},
     "output_type": "execute_result"
    }
   ],
   "source": [
    "Image.fromarray(mat[::2,::2], 'L')"
   ]
  },
  {
   "cell_type": "markdown",
   "metadata": {},
   "source": [
    "And looking at the top right we see evil. If you don't see it download the image and max the brightness and there it will appear."
   ]
  },
  {
   "cell_type": "markdown",
   "metadata": {},
   "source": [
    "### Challenge 12 - dealing evil\n",
    "Link: http://www.pythonchallenge.com/pc/return/evil.html\n",
    "<img src=\"c12/evil1.jpg\">"
   ]
  },
  {
   "cell_type": "markdown",
   "metadata": {},
   "source": [
    "This is the hardest challenge in my opinion, the frustration level was hilarius, anyway we got it done. \n",
    "\n",
    "The first trick is to realize that there are multiple photos, because the photo in the html page is `evil1.jpg` then there exists `evil2.jpg` and `evil3.jpg`."
   ]
  },
  {
   "cell_type": "markdown",
   "metadata": {},
   "source": [
    "<table><tr><td><img src='c12/evil2.jpg'></td><td><img src='c12/evil3.jpg'></td></tr></table>"
   ]
  },
  {
   "cell_type": "markdown",
   "metadata": {},
   "source": [
    "The second photo suggests that the file format is wrong and that it is gfx. In effect, changing the ending provides us with a new file in an obscure format..."
   ]
  },
  {
   "cell_type": "code",
   "execution_count": 68,
   "metadata": {},
   "outputs": [
    {
     "data": {
      "text/plain": [
       "b\"\\xff\\x89G\\x89\\xff\\xd8PIP\\xd8\\xffNFN\\xff\\xe0G8G\\xe0\\x00\\r7\\r\\x00\\x10\\na\\n\\x10J\\x1a@\\x1aJF\\n\\x01\\nFI\\x00\\xf0\\x00IF\\x00\\x00\\x00F\\x00\\x00\\xe7\\x00\\x00\\x01\\r\\x00\\r\\x01\\x01I\\x00I\\x01\\x01H\\x00H\\x01\\x00D\\x01D\\x00\\xb4R\\x00R\\xb4\\x00\\x00\\x00\\x00\\x00\\xb4\\x00\\x01\\x00\\xb4\\x00\\x01\\x04\\x01\\x00\\x00\\x90\\x02@\\x00\\xff\\x00\\x00\\x00\\xff\\xe1\\x00\\x05\\x00\\xe1\\x08\\x01\\x00\\x00\\x0b\\xa4,\\x02\\xf0\\xdfE\\x08\\x00\\x08Ex\\x02\\x06\\x02xi\\x00\\x00\\x00if\\x00\\x00\\x00f\\x00\\x00\\x04\\x00\\x00\\x00b\\x00\\xfe\\x00M\\xd5\\x06OMMr\\x00*M\\x00\\x95\\x01<\\x00*\\x00\\x0e\\x00*\\x00\\x00\\x00\\x00\\x00\\x00\\x00\\x03\\x00\\x00\\x00\\x06\\x06\\t\\x00\\x08b\\x01p\\x08\\x00K\\x04H\\x00\\x00G\\x00Y\\x00\\x00D\\x00s\\x00\\x00\\x00\\x04\\x00\\x00\\x00\\x00\\x07\\x00\\x00\\x0e\\x00\\x05\\x1b\\x0e\\x00\\x00\\x02\\xaf\\x00\\x02\\x00\\x07\\x00\\x02\\x02\\x00\\x00\\x00\\x02\\x01\\xf9\\x05\\x1b\\x01\\x00C\\t\\xaf\\x00\\x04\\xbb\\x00\\x01\\x04\\x00\\x7f\\x03^\\x00\\x00\\x00\\x15\\x1a\\x00\\x00\\x00\\x06\\x91\\x00\\x01\\x00\\x01\\x1c\\x01\\x00\\t\\x15\\x00\\x00\\x00p\\x03\\x00\\x00\\x00H\\x04\\x00\\x00,Y\\x10\\x07,\\x02s\\x07t\\x02\\x02\\x00\\x04I\\x02\\x00\\x00\\nM\\x00\\x04\\x1b\\x00E\\x04\\x00\\xaf\\x07\\x07\\x00\\x00\\x00\\x11\\xd5\\x00\\x00\\x00\\x01\\x05\\x00\\x01\\x1b\\x08\\x01\\x01\\x00\\xaf\\x0b\\x13\\x00\\x00\\x01\\x05(\\x00\\x08^\\x08\\t\\x0bp\\x1a\\x04\\xc4\\xab\\x00\\x91\\x05\\x9a\\x00\\x00\\x1c\\x06\\xc4\\x00\\x00\\x00\\x11\\x0e\\x00\\x00\\x00\\x06\\x00\\x00\\xff\\x00\\x04\\x00\\xff\\xd8\\x07\\x1b \\xd8\\xfft\\x02\\x00\\xff\\xe0I\\x07I\\xe0\\x00M\\x17D\\x00\\x10E\\x00A\\x10J\\x07\\x08TJF\\xd5\\x1bxFI\\x05\\x04\\xdaIF\\x01\\x07\\xecF\\x00\\x13 \\xbd\\x00\\x01 \\x08\\xd9\\x01\\x01;\\t\\x93\\x01\\x00\\xc4\\x14\\x1d\\x00\\x00\\x94\\x02\\xd7\\x00\\x01\\x1f\\x0b\\x95\\x01\\x00\\x86\\x1d\\xee\\x00\\x01\\x00\\x06\\xf7\\x01\\x00\\x00\\x0b}\\x00\\x00 \\x19k\\x00\\xff\\x00\\x00\\xef\\xff\\xdbI\\r\\x9d\\xdb\\x00D!\\x99\\x00CA\\x06'C\\x00T\\n\\xcf\\x00\\x05x!P\\x05\\x03\\xda\\n3\\x03\\x04\\xed\\tP\\x04\\x04\\xdd\\x1d\\x18\\x04\\x04k\\x02\\x08\\x04\\x03w\\x0c\\x90\\x03\\x05\\x1b'\\xe0\\x05\\x04G\\x04(\\x04\\x04\\xb2\\r\\x89\\x04\\x04%\\x1e-\\x04\\x05\\xec\\x0eu\\x05\\x05\\xbd\\tK\\x05\\x05#\\x19\\xdd\\x05\\x06\\xb3\\t\\x1d\\x06\\x07\\xaa\\nw\\x07\\x0c\\x00&\\x08\\x0c\\x08^\\x05\\x87\\x08\\x07$\\x0b\\xdf\\x07\\x07\\xf95\\xae\\x07\\x072\\x05\\xc3\\x07\\x07\\xbd\\x0e\\xfe\\x07\""
      ]
     },
     "execution_count": 68,
     "metadata": {},
     "output_type": "execute_result"
    }
   ],
   "source": [
    "f = open('c12/evil2.gfx','rb').read()\n",
    "f[:600]"
   ]
  },
  {
   "cell_type": "markdown",
   "metadata": {},
   "source": [
    "Then here it comes the difficult trick, you have to realize that it contains 5 different files interspersed in the bytes of the .gfx. \n",
    "\n",
    "How did I realize this? by looking for what file format header matched the first pixels of the file, I got results for the PNG format. In this one the header looks like this(hex) -> `89 50 4E 47` and the three latter bytes are `PNG` in ASCII. So trying to look for ASCII in the bytes of the .gfx you see that they are 5 bytes away.\n",
    "\n",
    "Then you match this idea with the evil1.jpg photo, in the photo there appear 5 decks so now you can infere that you have to sort the data in 5 new \"decks\"/files and see the new images."
   ]
  },
  {
   "cell_type": "code",
   "execution_count": 70,
   "metadata": {},
   "outputs": [],
   "source": [
    "ar = list()\n",
    "for i in range(5):\n",
    "    data = f[i::5]\n",
    "    ar.append(data)\n",
    "    open(f'c12/{i}.jpg', 'wb').write(data)"
   ]
  },
  {
   "cell_type": "markdown",
   "metadata": {},
   "source": [
    "The images are:\n",
    "<table><tr><td><img src='c12/0.jpg'></td><td><img src='c12/1.jpg'></td><td><img src='c12/2.jpg'></td><td><img src='c12/3.jpg'><td><img src='c12/4.jpg'></td></tr></table>"
   ]
  },
  {
   "cell_type": "markdown",
   "metadata": {},
   "source": [
    "### Challenge 13 - call him\n",
    "Link: http://www.pythonchallenge.com/pc/return/disproportional.html\n",
    "<img src=\"c13/disprop.jpg\">\n",
    "\n",
    "phone that evil"
   ]
  },
  {
   "cell_type": "markdown",
   "metadata": {},
   "source": [
    "In this challenge source code you can find this line: `phone that <remote /> evil`. And also when you click the number 5 it appears some xml with 105 error.\n",
    "\n",
    "From these two pieces you have to guess that this is referring to remote procedure call over xml, and after a quick search python has an implementation in the stl, so here we go."
   ]
  },
  {
   "cell_type": "code",
   "execution_count": 71,
   "metadata": {},
   "outputs": [
    {
     "data": {
      "text/plain": [
       "['phone',\n",
       " 'system.listMethods',\n",
       " 'system.methodHelp',\n",
       " 'system.methodSignature',\n",
       " 'system.multicall',\n",
       " 'system.getCapabilities']"
      ]
     },
     "execution_count": 71,
     "metadata": {},
     "output_type": "execute_result"
    }
   ],
   "source": [
    "import xmlrpc.client\n",
    "s = xmlrpc.client.ServerProxy(\"http://www.pythonchallenge.com/pc/phonebook.php\")\n",
    "s.system.listMethods()"
   ]
  },
  {
   "cell_type": "markdown",
   "metadata": {},
   "source": [
    "Let's see what does phone do..."
   ]
  },
  {
   "cell_type": "code",
   "execution_count": 16,
   "metadata": {},
   "outputs": [
    {
     "data": {
      "text/plain": [
       "'Returns the phone of a person'"
      ]
     },
     "execution_count": 16,
     "metadata": {},
     "output_type": "execute_result"
    }
   ],
   "source": [
    "s.system.methodHelp('phone')"
   ]
  },
  {
   "cell_type": "markdown",
   "metadata": {},
   "source": [
    "So maybe we try calling the infamous Bert..."
   ]
  },
  {
   "cell_type": "code",
   "execution_count": 11,
   "metadata": {},
   "outputs": [
    {
     "data": {
      "text/plain": [
       "'555-ITALY'"
      ]
     },
     "execution_count": 11,
     "metadata": {},
     "output_type": "execute_result"
    }
   ],
   "source": [
    "s.phone('Bert')"
   ]
  },
  {
   "cell_type": "markdown",
   "metadata": {},
   "source": [
    "### Challenge 14 - walk around \n",
    "Link: http://www.pythonchallenge.com/pc/return/italy.html\n",
    "<img src=\"c14/italy.jpg\" height=\"100\"><br>\n",
    "\n",
    "\n",
    "<div>\n",
    "<img src=\"c14/wire.png\" style=\"width: 100px;height: 100px\">\n",
    "</div>"
   ]
  },
  {
   "cell_type": "code",
   "execution_count": 78,
   "metadata": {},
   "outputs": [],
   "source": [
    "from PIL import Image\n",
    "import numpy as np\n",
    "\n",
    "im = Image.open('c14/wire.png').convert('L')\n",
    "mat = np.array(im)"
   ]
  },
  {
   "cell_type": "code",
   "execution_count": 86,
   "metadata": {},
   "outputs": [
    {
     "data": {
      "text/plain": [
       "[<matplotlib.lines.Line2D at 0x27feb0134e0>]"
      ]
     },
     "execution_count": 86,
     "metadata": {},
     "output_type": "execute_result"
    },
    {
     "data": {
      "image/png": "[encoded data removed]",
      "text/plain": [
       "<Figure size 432x288 with 1 Axes>"
      ]
     },
     "metadata": {
      "needs_background": "light"
     },
     "output_type": "display_data"
    }
   ],
   "source": [
    "plt.plot(mat[0])"
   ]
  },
  {
   "cell_type": "code",
   "execution_count": null,
   "metadata": {},
   "outputs": [],
   "source": []
  }
 ],
 "metadata": {
  "kernelspec": {
   "display_name": "Python 3",
   "language": "python",
   "name": "python3"
  },
  "language_info": {
   "codemirror_mode": {
    "name": "ipython",
    "version": 3
   },
   "file_extension": ".py",
   "mimetype": "text/x-python",
   "name": "python",
   "nbconvert_exporter": "python",
   "pygments_lexer": "ipython3",
   "version": "3.7.3"
  }
 },
 "nbformat": 4,
 "nbformat_minor": 2
}
